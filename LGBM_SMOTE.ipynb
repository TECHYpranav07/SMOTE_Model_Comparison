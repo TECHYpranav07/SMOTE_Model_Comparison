{
 "cells": [
  {
   "cell_type": "code",
   "execution_count": 1,
   "id": "afc495ab-0630-48d0-af52-66bc31ba3340",
   "metadata": {},
   "outputs": [
    {
     "name": "stderr",
     "output_type": "stream",
     "text": [
      "C:\\Users\\Sa\\AppData\\Local\\Temp\\ipykernel_22644\\1852274097.py:12: DtypeWarning: Columns (0) have mixed types. Specify dtype option on import or set low_memory=False.\n",
      "  data_df = pd.read_csv('NEW_dataset_csv.csv')\n"
     ]
    }
   ],
   "source": [
    "import numpy as np\n",
    "import pandas as pd\n",
    "import seaborn as sns\n",
    "import matplotlib.pyplot as plt\n",
    "from sklearn.metrics import classification_report\n",
    "from sklearn.model_selection import train_test_split\n",
    "from sklearn.metrics import f1_score\n",
    "from sklearn.metrics import accuracy_score, classification_report, confusion_matrix\n",
    "from sklearn.metrics import precision_score , recall_score\n",
    "from imblearn.over_sampling import SMOTE \n",
    "import lightgbm as lgb \n",
    "data_df = pd.read_csv('NEW_dataset_csv.csv')"
   ]
  },
  {
   "cell_type": "code",
   "execution_count": 2,
   "id": "9448cf54-76c9-4f52-ac40-290ab73b014c",
   "metadata": {},
   "outputs": [
    {
     "name": "stderr",
     "output_type": "stream",
     "text": [
      "C:\\Users\\Sa\\AppData\\Local\\Temp\\ipykernel_22644\\1430154249.py:5: SettingWithCopyWarning: \n",
      "A value is trying to be set on a copy of a slice from a DataFrame\n",
      "\n",
      "See the caveats in the documentation: https://pandas.pydata.org/pandas-docs/stable/user_guide/indexing.html#returning-a-view-versus-a-copy\n",
      "  y_label.replace(['VEB', 'SVEB', 'F', 'Q'], 'Arrhythmia', inplace=True)\n",
      "C:\\Users\\Sa\\AppData\\Local\\Temp\\ipykernel_22644\\1430154249.py:6: SettingWithCopyWarning: \n",
      "A value is trying to be set on a copy of a slice from a DataFrame\n",
      "\n",
      "See the caveats in the documentation: https://pandas.pydata.org/pandas-docs/stable/user_guide/indexing.html#returning-a-view-versus-a-copy\n",
      "  y_label.replace(['N'], 'Normal', inplace=True)\n"
     ]
    }
   ],
   "source": [
    "x_data = data_df.iloc[:, 2:]\n",
    "y_label = data_df[['type']]\n",
    "z_label = data_df[['type']]\n",
    "z_label.value_counts()\n",
    "y_label.replace(['VEB', 'SVEB', 'F', 'Q'], 'Arrhythmia', inplace=True)\n",
    "y_label.replace(['N'], 'Normal', inplace=True)"
   ]
  },
  {
   "cell_type": "code",
   "execution_count": null,
   "id": "34211af4-c76b-41f2-ac76-a4d4e872f42c",
   "metadata": {},
   "outputs": [],
   "source": [
    "\n"
   ]
  },
  {
   "cell_type": "code",
   "execution_count": 3,
   "id": "f1922d54-be3e-4405-9d7c-1449f56b9ed6",
   "metadata": {},
   "outputs": [
    {
     "data": {
      "image/png": "[encoded data removed]",
      "text/plain": [
       "<Figure size 640x480 with 1 Axes>"
      ]
     },
     "metadata": {},
     "output_type": "display_data"
    }
   ],
   "source": [
    "smote=SMOTE()\n",
    "x_re,y_re = smote.fit_resample(x_data,y_label)\n",
    "y_re.value_counts()\n",
    "after=y_re.value_counts()\n",
    "plt.pie(after,labels=['Normal','Arrhythmmia'],explode=[0,0])\n",
    "plt.legend()\n",
    "plt.show()"
   ]
  },
  {
   "cell_type": "code",
   "execution_count": 4,
   "id": "df2c64b9-697e-42cb-afb1-bbbeaaeb06b4",
   "metadata": {},
   "outputs": [
    {
     "name": "stderr",
     "output_type": "stream",
     "text": [
      "C:\\Users\\Sa\\anaconda3\\Lib\\site-packages\\sklearn\\preprocessing\\_label.py:114: DataConversionWarning: A column-vector y was passed when a 1d array was expected. Please change the shape of y to (n_samples, ), for example using ravel().\n",
      "  y = column_or_1d(y, warn=True)\n"
     ]
    }
   ],
   "source": [
    "from sklearn.preprocessing import LabelEncoder\n",
    "labelencoder = LabelEncoder()\n",
    "Y = labelencoder.fit_transform(y_re)"
   ]
  },
  {
   "cell_type": "code",
   "execution_count": 5,
   "id": "8438954f-71b7-4e37-b0a1-7dacfc0b2eb5",
   "metadata": {},
   "outputs": [
    {
     "data": {
      "text/html": [
       "<div>\n",
       "<style scoped>\n",
       "    .dataframe tbody tr th:only-of-type {\n",
       "        vertical-align: middle;\n",
       "    }\n",
       "\n",
       "    .dataframe tbody tr th {\n",
       "        vertical-align: top;\n",
       "    }\n",
       "\n",
       "    .dataframe thead th {\n",
       "        text-align: right;\n",
       "    }\n",
       "</style>\n",
       "<table border=\"1\" class=\"dataframe\">\n",
       "  <thead>\n",
       "    <tr style=\"text-align: right;\">\n",
       "      <th></th>\n",
       "      <th>0</th>\n",
       "    </tr>\n",
       "  </thead>\n",
       "  <tbody>\n",
       "    <tr>\n",
       "      <th>0</th>\n",
       "      <td>1</td>\n",
       "    </tr>\n",
       "    <tr>\n",
       "      <th>1</th>\n",
       "      <td>1</td>\n",
       "    </tr>\n",
       "    <tr>\n",
       "      <th>2</th>\n",
       "      <td>1</td>\n",
       "    </tr>\n",
       "    <tr>\n",
       "      <th>3</th>\n",
       "      <td>0</td>\n",
       "    </tr>\n",
       "    <tr>\n",
       "      <th>4</th>\n",
       "      <td>1</td>\n",
       "    </tr>\n",
       "    <tr>\n",
       "      <th>...</th>\n",
       "      <td>...</td>\n",
       "    </tr>\n",
       "    <tr>\n",
       "      <th>811643</th>\n",
       "      <td>0</td>\n",
       "    </tr>\n",
       "    <tr>\n",
       "      <th>811644</th>\n",
       "      <td>0</td>\n",
       "    </tr>\n",
       "    <tr>\n",
       "      <th>811645</th>\n",
       "      <td>0</td>\n",
       "    </tr>\n",
       "    <tr>\n",
       "      <th>811646</th>\n",
       "      <td>0</td>\n",
       "    </tr>\n",
       "    <tr>\n",
       "      <th>811647</th>\n",
       "      <td>0</td>\n",
       "    </tr>\n",
       "  </tbody>\n",
       "</table>\n",
       "<p>811648 rows × 1 columns</p>\n",
       "</div>"
      ],
      "text/plain": [
       "        0\n",
       "0       1\n",
       "1       1\n",
       "2       1\n",
       "3       0\n",
       "4       1\n",
       "...    ..\n",
       "811643  0\n",
       "811644  0\n",
       "811645  0\n",
       "811646  0\n",
       "811647  0\n",
       "\n",
       "[811648 rows x 1 columns]"
      ]
     },
     "execution_count": 5,
     "metadata": {},
     "output_type": "execute_result"
    }
   ],
   "source": [
    "y = pd.DataFrame(Y)  \n",
    "y.value_counts()\n",
    "y"
   ]
  },
  {
   "cell_type": "code",
   "execution_count": 6,
   "id": "b5a96c62-c88e-4c2b-89cb-5566a6692675",
   "metadata": {},
   "outputs": [
    {
     "data": {
      "text/html": [
       "<div>\n",
       "<style scoped>\n",
       "    .dataframe tbody tr th:only-of-type {\n",
       "        vertical-align: middle;\n",
       "    }\n",
       "\n",
       "    .dataframe tbody tr th {\n",
       "        vertical-align: top;\n",
       "    }\n",
       "\n",
       "    .dataframe thead th {\n",
       "        text-align: right;\n",
       "    }\n",
       "</style>\n",
       "<table border=\"1\" class=\"dataframe\">\n",
       "  <thead>\n",
       "    <tr style=\"text-align: right;\">\n",
       "      <th></th>\n",
       "      <th>0</th>\n",
       "      <th>1</th>\n",
       "      <th>2</th>\n",
       "      <th>3</th>\n",
       "      <th>4</th>\n",
       "      <th>5</th>\n",
       "      <th>6</th>\n",
       "      <th>7</th>\n",
       "      <th>8</th>\n",
       "      <th>9</th>\n",
       "      <th>...</th>\n",
       "      <th>22</th>\n",
       "      <th>23</th>\n",
       "      <th>24</th>\n",
       "      <th>25</th>\n",
       "      <th>26</th>\n",
       "      <th>27</th>\n",
       "      <th>28</th>\n",
       "      <th>29</th>\n",
       "      <th>30</th>\n",
       "      <th>31</th>\n",
       "    </tr>\n",
       "  </thead>\n",
       "  <tbody>\n",
       "    <tr>\n",
       "      <th>0</th>\n",
       "      <td>0.076668</td>\n",
       "      <td>0.078051</td>\n",
       "      <td>0.289567</td>\n",
       "      <td>0.620255</td>\n",
       "      <td>0.659809</td>\n",
       "      <td>0.632061</td>\n",
       "      <td>0.699101</td>\n",
       "      <td>0.088235</td>\n",
       "      <td>0.006711</td>\n",
       "      <td>0.072508</td>\n",
       "      <td>...</td>\n",
       "      <td>0.613453</td>\n",
       "      <td>0.053846</td>\n",
       "      <td>0.010870</td>\n",
       "      <td>0.051220</td>\n",
       "      <td>0.023364</td>\n",
       "      <td>0.613453</td>\n",
       "      <td>0.576731</td>\n",
       "      <td>0.531004</td>\n",
       "      <td>0.533028</td>\n",
       "      <td>0.535700</td>\n",
       "    </tr>\n",
       "    <tr>\n",
       "      <th>1</th>\n",
       "      <td>0.077615</td>\n",
       "      <td>0.078524</td>\n",
       "      <td>0.278288</td>\n",
       "      <td>0.673848</td>\n",
       "      <td>0.600650</td>\n",
       "      <td>0.658253</td>\n",
       "      <td>0.681045</td>\n",
       "      <td>0.017647</td>\n",
       "      <td>0.026846</td>\n",
       "      <td>0.033233</td>\n",
       "      <td>...</td>\n",
       "      <td>0.623459</td>\n",
       "      <td>0.057692</td>\n",
       "      <td>0.021739</td>\n",
       "      <td>0.060976</td>\n",
       "      <td>0.028037</td>\n",
       "      <td>0.623459</td>\n",
       "      <td>0.590220</td>\n",
       "      <td>0.543876</td>\n",
       "      <td>0.547873</td>\n",
       "      <td>0.549922</td>\n",
       "    </tr>\n",
       "    <tr>\n",
       "      <th>2</th>\n",
       "      <td>0.078088</td>\n",
       "      <td>0.048250</td>\n",
       "      <td>0.292260</td>\n",
       "      <td>0.680406</td>\n",
       "      <td>0.606461</td>\n",
       "      <td>0.663929</td>\n",
       "      <td>0.624139</td>\n",
       "      <td>0.035294</td>\n",
       "      <td>0.161074</td>\n",
       "      <td>0.096677</td>\n",
       "      <td>...</td>\n",
       "      <td>0.601527</td>\n",
       "      <td>0.126923</td>\n",
       "      <td>0.065217</td>\n",
       "      <td>0.121951</td>\n",
       "      <td>0.023364</td>\n",
       "      <td>0.601527</td>\n",
       "      <td>0.570970</td>\n",
       "      <td>0.530823</td>\n",
       "      <td>0.546194</td>\n",
       "      <td>0.599753</td>\n",
       "    </tr>\n",
       "    <tr>\n",
       "      <th>3</th>\n",
       "      <td>0.047799</td>\n",
       "      <td>0.109272</td>\n",
       "      <td>0.296794</td>\n",
       "      <td>0.647008</td>\n",
       "      <td>0.598738</td>\n",
       "      <td>0.605809</td>\n",
       "      <td>0.684626</td>\n",
       "      <td>0.023529</td>\n",
       "      <td>0.013423</td>\n",
       "      <td>0.033233</td>\n",
       "      <td>...</td>\n",
       "      <td>0.620149</td>\n",
       "      <td>0.080769</td>\n",
       "      <td>0.043478</td>\n",
       "      <td>0.078049</td>\n",
       "      <td>0.014019</td>\n",
       "      <td>0.620149</td>\n",
       "      <td>0.587954</td>\n",
       "      <td>0.554339</td>\n",
       "      <td>0.587392</td>\n",
       "      <td>0.614056</td>\n",
       "    </tr>\n",
       "    <tr>\n",
       "      <th>4</th>\n",
       "      <td>0.108850</td>\n",
       "      <td>0.078051</td>\n",
       "      <td>0.324490</td>\n",
       "      <td>0.674652</td>\n",
       "      <td>0.600241</td>\n",
       "      <td>0.657854</td>\n",
       "      <td>0.678108</td>\n",
       "      <td>0.017647</td>\n",
       "      <td>0.221477</td>\n",
       "      <td>0.120846</td>\n",
       "      <td>...</td>\n",
       "      <td>0.604956</td>\n",
       "      <td>0.123077</td>\n",
       "      <td>0.021739</td>\n",
       "      <td>0.100000</td>\n",
       "      <td>0.023364</td>\n",
       "      <td>0.604956</td>\n",
       "      <td>0.579630</td>\n",
       "      <td>0.532057</td>\n",
       "      <td>0.537198</td>\n",
       "      <td>0.591114</td>\n",
       "    </tr>\n",
       "    <tr>\n",
       "      <th>...</th>\n",
       "      <td>...</td>\n",
       "      <td>...</td>\n",
       "      <td>...</td>\n",
       "      <td>...</td>\n",
       "      <td>...</td>\n",
       "      <td>...</td>\n",
       "      <td>...</td>\n",
       "      <td>...</td>\n",
       "      <td>...</td>\n",
       "      <td>...</td>\n",
       "      <td>...</td>\n",
       "      <td>...</td>\n",
       "      <td>...</td>\n",
       "      <td>...</td>\n",
       "      <td>...</td>\n",
       "      <td>...</td>\n",
       "      <td>...</td>\n",
       "      <td>...</td>\n",
       "      <td>...</td>\n",
       "      <td>...</td>\n",
       "      <td>...</td>\n",
       "    </tr>\n",
       "    <tr>\n",
       "      <th>811643</th>\n",
       "      <td>0.043540</td>\n",
       "      <td>0.050142</td>\n",
       "      <td>0.290132</td>\n",
       "      <td>0.614498</td>\n",
       "      <td>0.666308</td>\n",
       "      <td>0.645259</td>\n",
       "      <td>0.691099</td>\n",
       "      <td>0.076471</td>\n",
       "      <td>0.067114</td>\n",
       "      <td>0.069486</td>\n",
       "      <td>...</td>\n",
       "      <td>0.617716</td>\n",
       "      <td>0.023077</td>\n",
       "      <td>0.000000</td>\n",
       "      <td>0.017073</td>\n",
       "      <td>0.000000</td>\n",
       "      <td>0.617716</td>\n",
       "      <td>0.580872</td>\n",
       "      <td>0.525161</td>\n",
       "      <td>0.525499</td>\n",
       "      <td>0.562364</td>\n",
       "    </tr>\n",
       "    <tr>\n",
       "      <th>811644</th>\n",
       "      <td>0.079508</td>\n",
       "      <td>0.065752</td>\n",
       "      <td>0.290979</td>\n",
       "      <td>0.614432</td>\n",
       "      <td>0.689818</td>\n",
       "      <td>0.642803</td>\n",
       "      <td>0.699037</td>\n",
       "      <td>0.141176</td>\n",
       "      <td>0.026846</td>\n",
       "      <td>0.093656</td>\n",
       "      <td>...</td>\n",
       "      <td>0.573660</td>\n",
       "      <td>0.011538</td>\n",
       "      <td>0.027174</td>\n",
       "      <td>0.043902</td>\n",
       "      <td>0.046729</td>\n",
       "      <td>0.573660</td>\n",
       "      <td>0.523477</td>\n",
       "      <td>0.453215</td>\n",
       "      <td>0.443798</td>\n",
       "      <td>0.475130</td>\n",
       "    </tr>\n",
       "    <tr>\n",
       "      <th>811645</th>\n",
       "      <td>0.023663</td>\n",
       "      <td>0.023652</td>\n",
       "      <td>0.285684</td>\n",
       "      <td>0.753458</td>\n",
       "      <td>0.765317</td>\n",
       "      <td>0.506005</td>\n",
       "      <td>0.681996</td>\n",
       "      <td>0.094118</td>\n",
       "      <td>0.026846</td>\n",
       "      <td>0.102719</td>\n",
       "      <td>...</td>\n",
       "      <td>0.595133</td>\n",
       "      <td>0.030769</td>\n",
       "      <td>0.000000</td>\n",
       "      <td>0.029268</td>\n",
       "      <td>0.014019</td>\n",
       "      <td>0.595133</td>\n",
       "      <td>0.554110</td>\n",
       "      <td>0.526666</td>\n",
       "      <td>0.541740</td>\n",
       "      <td>0.485448</td>\n",
       "    </tr>\n",
       "    <tr>\n",
       "      <th>811646</th>\n",
       "      <td>0.067203</td>\n",
       "      <td>0.134342</td>\n",
       "      <td>0.280392</td>\n",
       "      <td>0.680405</td>\n",
       "      <td>0.719574</td>\n",
       "      <td>0.699326</td>\n",
       "      <td>0.684332</td>\n",
       "      <td>0.223529</td>\n",
       "      <td>0.020134</td>\n",
       "      <td>0.132931</td>\n",
       "      <td>...</td>\n",
       "      <td>0.520471</td>\n",
       "      <td>0.019231</td>\n",
       "      <td>0.059783</td>\n",
       "      <td>0.087805</td>\n",
       "      <td>0.088785</td>\n",
       "      <td>0.520471</td>\n",
       "      <td>0.450965</td>\n",
       "      <td>0.382688</td>\n",
       "      <td>0.359614</td>\n",
       "      <td>0.394421</td>\n",
       "    </tr>\n",
       "    <tr>\n",
       "      <th>811647</th>\n",
       "      <td>0.045433</td>\n",
       "      <td>0.106906</td>\n",
       "      <td>0.309012</td>\n",
       "      <td>0.655921</td>\n",
       "      <td>0.622801</td>\n",
       "      <td>0.657997</td>\n",
       "      <td>0.712141</td>\n",
       "      <td>0.023529</td>\n",
       "      <td>0.000000</td>\n",
       "      <td>0.033233</td>\n",
       "      <td>...</td>\n",
       "      <td>0.619476</td>\n",
       "      <td>0.011538</td>\n",
       "      <td>0.016304</td>\n",
       "      <td>0.036585</td>\n",
       "      <td>0.032710</td>\n",
       "      <td>0.619476</td>\n",
       "      <td>0.582789</td>\n",
       "      <td>0.510445</td>\n",
       "      <td>0.509755</td>\n",
       "      <td>0.535833</td>\n",
       "    </tr>\n",
       "  </tbody>\n",
       "</table>\n",
       "<p>811648 rows × 32 columns</p>\n",
       "</div>"
      ],
      "text/plain": [
       "              0         1         2         3         4         5         6   \\\n",
       "0       0.076668  0.078051  0.289567  0.620255  0.659809  0.632061  0.699101   \n",
       "1       0.077615  0.078524  0.278288  0.673848  0.600650  0.658253  0.681045   \n",
       "2       0.078088  0.048250  0.292260  0.680406  0.606461  0.663929  0.624139   \n",
       "3       0.047799  0.109272  0.296794  0.647008  0.598738  0.605809  0.684626   \n",
       "4       0.108850  0.078051  0.324490  0.674652  0.600241  0.657854  0.678108   \n",
       "...          ...       ...       ...       ...       ...       ...       ...   \n",
       "811643  0.043540  0.050142  0.290132  0.614498  0.666308  0.645259  0.691099   \n",
       "811644  0.079508  0.065752  0.290979  0.614432  0.689818  0.642803  0.699037   \n",
       "811645  0.023663  0.023652  0.285684  0.753458  0.765317  0.506005  0.681996   \n",
       "811646  0.067203  0.134342  0.280392  0.680405  0.719574  0.699326  0.684332   \n",
       "811647  0.045433  0.106906  0.309012  0.655921  0.622801  0.657997  0.712141   \n",
       "\n",
       "              7         8         9   ...        22        23        24  \\\n",
       "0       0.088235  0.006711  0.072508  ...  0.613453  0.053846  0.010870   \n",
       "1       0.017647  0.026846  0.033233  ...  0.623459  0.057692  0.021739   \n",
       "2       0.035294  0.161074  0.096677  ...  0.601527  0.126923  0.065217   \n",
       "3       0.023529  0.013423  0.033233  ...  0.620149  0.080769  0.043478   \n",
       "4       0.017647  0.221477  0.120846  ...  0.604956  0.123077  0.021739   \n",
       "...          ...       ...       ...  ...       ...       ...       ...   \n",
       "811643  0.076471  0.067114  0.069486  ...  0.617716  0.023077  0.000000   \n",
       "811644  0.141176  0.026846  0.093656  ...  0.573660  0.011538  0.027174   \n",
       "811645  0.094118  0.026846  0.102719  ...  0.595133  0.030769  0.000000   \n",
       "811646  0.223529  0.020134  0.132931  ...  0.520471  0.019231  0.059783   \n",
       "811647  0.023529  0.000000  0.033233  ...  0.619476  0.011538  0.016304   \n",
       "\n",
       "              25        26        27        28        29        30        31  \n",
       "0       0.051220  0.023364  0.613453  0.576731  0.531004  0.533028  0.535700  \n",
       "1       0.060976  0.028037  0.623459  0.590220  0.543876  0.547873  0.549922  \n",
       "2       0.121951  0.023364  0.601527  0.570970  0.530823  0.546194  0.599753  \n",
       "3       0.078049  0.014019  0.620149  0.587954  0.554339  0.587392  0.614056  \n",
       "4       0.100000  0.023364  0.604956  0.579630  0.532057  0.537198  0.591114  \n",
       "...          ...       ...       ...       ...       ...       ...       ...  \n",
       "811643  0.017073  0.000000  0.617716  0.580872  0.525161  0.525499  0.562364  \n",
       "811644  0.043902  0.046729  0.573660  0.523477  0.453215  0.443798  0.475130  \n",
       "811645  0.029268  0.014019  0.595133  0.554110  0.526666  0.541740  0.485448  \n",
       "811646  0.087805  0.088785  0.520471  0.450965  0.382688  0.359614  0.394421  \n",
       "811647  0.036585  0.032710  0.619476  0.582789  0.510445  0.509755  0.535833  \n",
       "\n",
       "[811648 rows x 32 columns]"
      ]
     },
     "execution_count": 6,
     "metadata": {},
     "output_type": "execute_result"
    }
   ],
   "source": [
    "from sklearn import preprocessing\n",
    "min_max_scaler = preprocessing.MinMaxScaler()\n",
    "X_scaled=min_max_scaler.fit_transform(x_re)\n",
    "X_scaled_df = pd.DataFrame(X_scaled)\n",
    "X_scaled_df"
   ]
  },
  {
   "cell_type": "code",
   "execution_count": 7,
   "id": "5c12bb85-ad7b-463c-bde9-5f39262facff",
   "metadata": {},
   "outputs": [],
   "source": [
    "X_train, X_test, y_train, y_test = train_test_split(X_scaled_df, y, random_state=101,test_size=0.3)"
   ]
  },
  {
   "cell_type": "code",
   "execution_count": 8,
   "id": "e87cbcf1-d795-4558-9a59-f6780d1131c5",
   "metadata": {},
   "outputs": [],
   "source": [
    "d_train = lgb.Dataset(X_train,y_train)"
   ]
  },
  {
   "cell_type": "code",
   "execution_count": 9,
   "id": "8d63aa03-bf9a-472d-866f-f92172e3dbb5",
   "metadata": {},
   "outputs": [],
   "source": [
    "params = {\n",
    "    \"objective\": \"binary\",            # Binary classification\n",
    "    \"metric\": \"binary_logloss\",       # Suitable metric for binary tasks\n",
    "    \"boosting_type\": \"gbdt\",          # Standard gradient boosting\n",
    "    \"learning_rate\": 0.05,            # Start with a conservative learning rate\n",
    "    \"num_leaves\": 31,                 # Control complexity (can tune between 20-40)\n",
    "    \"max_depth\": -1,                  # No depth limit; set to 5-10 for faster results\n",
    "    \"feature_fraction\": 0.8,          # Fraction of features to use per iteration\n",
    "    \"bagging_fraction\": 0.8,          # Fraction of data for each iteration\n",
    "    \"bagging_freq\": 5,                # Bagging every 5 iterations\n",
    "    \"min_data_in_leaf\": 20,           # Avoid overfitting by limiting samples in leaves\n",
    "    \"lambda_l1\": 0.1,                 # L1 regularization to reduce overfitting\n",
    "    \"lambda_l2\": 0.1,                 # L2 regularization to reduce overfitting\n",
    "    \"verbose\": -1                     # Suppress detailed output\n",
    "}"
   ]
  },
  {
   "cell_type": "code",
   "execution_count": 10,
   "id": "0bfe2fc2-bd69-4c66-b107-fc5a42c13fdc",
   "metadata": {},
   "outputs": [],
   "source": [
    "clf=lgb.train(params,d_train)"
   ]
  },
  {
   "cell_type": "code",
   "execution_count": 11,
   "id": "c38d96a3-21dd-41e3-bcbd-9c9d86a9f27c",
   "metadata": {},
   "outputs": [],
   "source": [
    "y_pred_lgbm = clf.predict(X_test)"
   ]
  },
  {
   "cell_type": "code",
   "execution_count": 12,
   "id": "1ce593e9-66c9-4c40-9cac-62e7958c1747",
   "metadata": {},
   "outputs": [
    {
     "data": {
      "text/html": [
       "<div>\n",
       "<style scoped>\n",
       "    .dataframe tbody tr th:only-of-type {\n",
       "        vertical-align: middle;\n",
       "    }\n",
       "\n",
       "    .dataframe tbody tr th {\n",
       "        vertical-align: top;\n",
       "    }\n",
       "\n",
       "    .dataframe thead th {\n",
       "        text-align: right;\n",
       "    }\n",
       "</style>\n",
       "<table border=\"1\" class=\"dataframe\">\n",
       "  <thead>\n",
       "    <tr style=\"text-align: right;\">\n",
       "      <th></th>\n",
       "      <th>0</th>\n",
       "    </tr>\n",
       "  </thead>\n",
       "  <tbody>\n",
       "    <tr>\n",
       "      <th>0</th>\n",
       "      <td>0.002668</td>\n",
       "    </tr>\n",
       "    <tr>\n",
       "      <th>1</th>\n",
       "      <td>0.001051</td>\n",
       "    </tr>\n",
       "    <tr>\n",
       "      <th>2</th>\n",
       "      <td>0.000417</td>\n",
       "    </tr>\n",
       "    <tr>\n",
       "      <th>3</th>\n",
       "      <td>0.998275</td>\n",
       "    </tr>\n",
       "    <tr>\n",
       "      <th>4</th>\n",
       "      <td>0.998472</td>\n",
       "    </tr>\n",
       "    <tr>\n",
       "      <th>...</th>\n",
       "      <td>...</td>\n",
       "    </tr>\n",
       "    <tr>\n",
       "      <th>243490</th>\n",
       "      <td>0.843904</td>\n",
       "    </tr>\n",
       "    <tr>\n",
       "      <th>243491</th>\n",
       "      <td>0.001232</td>\n",
       "    </tr>\n",
       "    <tr>\n",
       "      <th>243492</th>\n",
       "      <td>0.999553</td>\n",
       "    </tr>\n",
       "    <tr>\n",
       "      <th>243493</th>\n",
       "      <td>0.999688</td>\n",
       "    </tr>\n",
       "    <tr>\n",
       "      <th>243494</th>\n",
       "      <td>0.997574</td>\n",
       "    </tr>\n",
       "  </tbody>\n",
       "</table>\n",
       "<p>243495 rows × 1 columns</p>\n",
       "</div>"
      ],
      "text/plain": [
       "               0\n",
       "0       0.002668\n",
       "1       0.001051\n",
       "2       0.000417\n",
       "3       0.998275\n",
       "4       0.998472\n",
       "...          ...\n",
       "243490  0.843904\n",
       "243491  0.001232\n",
       "243492  0.999553\n",
       "243493  0.999688\n",
       "243494  0.997574\n",
       "\n",
       "[243495 rows x 1 columns]"
      ]
     },
     "execution_count": 12,
     "metadata": {},
     "output_type": "execute_result"
    }
   ],
   "source": [
    "y_pred_lgbm_df = pd.DataFrame(y_pred_lgbm)\n",
    "y_pred_lgbm_df"
   ]
  },
  {
   "cell_type": "code",
   "execution_count": 13,
   "id": "53013c20-b1b2-4ffe-b28f-dabed73a9ee2",
   "metadata": {},
   "outputs": [],
   "source": [
    "for i in range(0, X_test.shape[0]):\n",
    "    # Use .iloc to access the individual element at index i\n",
    "    if y_pred_lgbm_df.iloc[i, 0] >= 0.5:  # Access the first column value at index i\n",
    "        y_pred_lgbm_df.iloc[i, 0] = 1  # Set to 1 if the condition is met\n",
    "    else:\n",
    "        y_pred_lgbm_df.iloc[i, 0] = 0  # Set to 0 if the condition is not met"
   ]
  },
  {
   "cell_type": "code",
   "execution_count": null,
   "id": "02952c15-beec-491e-a338-95fcb98e486a",
   "metadata": {},
   "outputs": [],
   "source": []
  },
  {
   "cell_type": "code",
   "execution_count": 14,
   "id": "b0881552-d6cc-4a6c-8a43-0c68371d7df3",
   "metadata": {},
   "outputs": [
    {
     "data": {
      "text/plain": [
       "array([[120194,   1414],\n",
       "       [  1616, 120271]], dtype=int64)"
      ]
     },
     "execution_count": 14,
     "metadata": {},
     "output_type": "execute_result"
    }
   ],
   "source": [
    "cm = confusion_matrix(y_test,y_pred_lgbm_df)\n",
    "cm"
   ]
  },
  {
   "cell_type": "code",
   "execution_count": 15,
   "id": "d973753d-3ee5-4912-8655-6c26c57b69ee",
   "metadata": {},
   "outputs": [
    {
     "data": {
      "text/plain": [
       "0.9875562126532372"
      ]
     },
     "execution_count": 15,
     "metadata": {},
     "output_type": "execute_result"
    }
   ],
   "source": [
    "acc=accuracy_score(y_test,y_pred_lgbm_df)\n",
    "acc"
   ]
  },
  {
   "cell_type": "code",
   "execution_count": 16,
   "id": "6c0bf4f2-de99-4129-8268-2ecd62dae75e",
   "metadata": {},
   "outputs": [
    {
     "data": {
      "text/plain": [
       "0.9883724754950333"
      ]
     },
     "execution_count": 16,
     "metadata": {},
     "output_type": "execute_result"
    }
   ],
   "source": [
    "recall_score(y_test,y_pred_lgbm_df,pos_label=0)"
   ]
  },
  {
   "cell_type": "code",
   "execution_count": 17,
   "id": "3f777cd5-8eba-431b-9409-5bc5d0ef60ca",
   "metadata": {},
   "outputs": [
    {
     "data": {
      "text/plain": [
       "0.9867334373204171"
      ]
     },
     "execution_count": 17,
     "metadata": {},
     "output_type": "execute_result"
    }
   ],
   "source": [
    "precision_score(y_test,y_pred_lgbm_df,pos_label=0)"
   ]
  },
  {
   "cell_type": "code",
   "execution_count": 18,
   "id": "6480cdf9-4a5a-4dd8-9991-65e454d7153c",
   "metadata": {},
   "outputs": [
    {
     "data": {
      "text/plain": [
       "0.9875601464864598"
      ]
     },
     "execution_count": 18,
     "metadata": {},
     "output_type": "execute_result"
    }
   ],
   "source": [
    "f1_score(y_test, y_pred_lgbm_df)"
   ]
  },
  {
   "cell_type": "code",
   "execution_count": 19,
   "id": "d2eeeb43-74f0-49f6-b673-d81da3ba3586",
   "metadata": {},
   "outputs": [
    {
     "data": {
      "text/plain": [
       "0.975112439945644"
      ]
     },
     "execution_count": 19,
     "metadata": {},
     "output_type": "execute_result"
    }
   ],
   "source": [
    "from sklearn.metrics import cohen_kappa_score\n",
    "cohen_kappa_score(y_test, y_pred_lgbm_df)"
   ]
  },
  {
   "cell_type": "code",
   "execution_count": null,
   "id": "66076780-d077-4182-b9b5-34ece66f07a2",
   "metadata": {},
   "outputs": [],
   "source": []
  },
  {
   "cell_type": "code",
   "execution_count": 2,
   "id": "66e3a065-81e6-4ae6-86f6-f43fd4a856bc",
   "metadata": {},
   "outputs": [
    {
     "data": {
      "image/png": "[encoded data removed]",
      "text/plain": [
       "<Figure size 640x480 with 1 Axes>"
      ]
     },
     "metadata": {},
     "output_type": "display_data"
    }
   ],
   "source": [
    "import matplotlib.pyplot as plt\n",
    "import numpy as np\n",
    "\n",
    "# Use descriptive text directly as x values\n",
    "x_labels = np.array([\"Accuracy\", \"Recall_score\", \"Precision\", \"F1_Score\", \"Kappa\"])\n",
    "y = np.array([0.987, 0.988, 0.986, 0.987,0.975])\n",
    "\n",
    "plt.plot(x_labels, y, marker='o')  # Use text labels as x-axis values\n",
    "\n",
    "plt.xlabel(\"METRICS\")\n",
    "plt.ylabel(\"SCORE\")\n",
    "plt.title(\"Performance Metrics Evaluation\")\n",
    "\n",
    "plt.xticks(rotation=45)  \n",
    "plt.show()"
   ]
  },
  {
   "cell_type": "code",
   "execution_count": null,
   "id": "5c3dc7a3-aae9-4df7-abff-270b37e83b99",
   "metadata": {},
   "outputs": [],
   "source": []
  }
 ],
 "metadata": {
  "kernelspec": {
   "display_name": "Python 3 (ipykernel)",
   "language": "python",
   "name": "python3"
  },
  "language_info": {
   "codemirror_mode": {
    "name": "ipython",
    "version": 3
   },
   "file_extension": ".py",
   "mimetype": "text/x-python",
   "name": "python",
   "nbconvert_exporter": "python",
   "pygments_lexer": "ipython3",
   "version": "3.12.4"
  }
 },
 "nbformat": 4,
 "nbformat_minor": 5
}
